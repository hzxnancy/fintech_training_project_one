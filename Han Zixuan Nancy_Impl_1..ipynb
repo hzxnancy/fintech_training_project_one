{
 "cells": [
  {
   "cell_type": "markdown",
   "id": "17931cae",
   "metadata": {},
   "source": [
    "# Introduction\n",
    "\n",
    "Nividia Corporation is an American software and fabless company that design GPUs and APIs for data science and high performance computing as well as System on a Chip units(SoCs) for the mobile computing market. They are the main distributor of AI hardware and software. First, we would import the relevant python libraries and datasets that would be used in our analysis."
   ]
  },
  {
   "cell_type": "code",
   "execution_count": 53,
   "id": "c11ec4cb",
   "metadata": {},
   "outputs": [],
   "source": [
    "import pandas as pd\n",
    "import matplotlib.pyplot as plt\n",
    "import numpy as np \n",
    "import math\n",
    "from sklearn.preprocessing import MinMaxScaler\n",
    "from sklearn.metrics import mean_squared_error\n",
    "from keras.models import Sequential\n",
    "from keras.layers import Dense, Activation\n",
    "from keras.layers import LSTM\n",
    "import seaborn as sns"
   ]
  },
  {
   "cell_type": "code",
   "execution_count": 54,
   "id": "a8610c65",
   "metadata": {},
   "outputs": [],
   "source": [
    "import tensorflow as tf"
   ]
  },
  {
   "cell_type": "code",
   "execution_count": 55,
   "id": "8992616f",
   "metadata": {},
   "outputs": [
    {
     "data": {
      "text/html": [
       "<div>\n",
       "<style scoped>\n",
       "    .dataframe tbody tr th:only-of-type {\n",
       "        vertical-align: middle;\n",
       "    }\n",
       "\n",
       "    .dataframe tbody tr th {\n",
       "        vertical-align: top;\n",
       "    }\n",
       "\n",
       "    .dataframe thead th {\n",
       "        text-align: right;\n",
       "    }\n",
       "</style>\n",
       "<table border=\"1\" class=\"dataframe\">\n",
       "  <thead>\n",
       "    <tr style=\"text-align: right;\">\n",
       "      <th></th>\n",
       "      <th>Date</th>\n",
       "      <th>Open</th>\n",
       "      <th>High</th>\n",
       "      <th>Low</th>\n",
       "      <th>Close</th>\n",
       "    </tr>\n",
       "  </thead>\n",
       "  <tbody>\n",
       "    <tr>\n",
       "      <th>0</th>\n",
       "      <td>2019-01-02</td>\n",
       "      <td>32.660000</td>\n",
       "      <td>34.619999</td>\n",
       "      <td>32.512501</td>\n",
       "      <td>34.055000</td>\n",
       "    </tr>\n",
       "    <tr>\n",
       "      <th>1</th>\n",
       "      <td>2019-01-03</td>\n",
       "      <td>33.447498</td>\n",
       "      <td>33.790001</td>\n",
       "      <td>31.922501</td>\n",
       "      <td>31.997499</td>\n",
       "    </tr>\n",
       "    <tr>\n",
       "      <th>2</th>\n",
       "      <td>2019-01-04</td>\n",
       "      <td>32.735001</td>\n",
       "      <td>34.432499</td>\n",
       "      <td>32.424999</td>\n",
       "      <td>34.047501</td>\n",
       "    </tr>\n",
       "    <tr>\n",
       "      <th>3</th>\n",
       "      <td>2019-01-07</td>\n",
       "      <td>34.625000</td>\n",
       "      <td>36.222500</td>\n",
       "      <td>34.107498</td>\n",
       "      <td>35.849998</td>\n",
       "    </tr>\n",
       "    <tr>\n",
       "      <th>4</th>\n",
       "      <td>2019-01-08</td>\n",
       "      <td>36.672501</td>\n",
       "      <td>36.695000</td>\n",
       "      <td>34.224998</td>\n",
       "      <td>34.957500</td>\n",
       "    </tr>\n",
       "    <tr>\n",
       "      <th>...</th>\n",
       "      <td>...</td>\n",
       "      <td>...</td>\n",
       "      <td>...</td>\n",
       "      <td>...</td>\n",
       "      <td>...</td>\n",
       "    </tr>\n",
       "    <tr>\n",
       "      <th>1201</th>\n",
       "      <td>2023-10-10</td>\n",
       "      <td>453.100006</td>\n",
       "      <td>462.589996</td>\n",
       "      <td>450.880005</td>\n",
       "      <td>457.980011</td>\n",
       "    </tr>\n",
       "    <tr>\n",
       "      <th>1202</th>\n",
       "      <td>2023-10-11</td>\n",
       "      <td>461.959991</td>\n",
       "      <td>468.589996</td>\n",
       "      <td>460.500000</td>\n",
       "      <td>468.059998</td>\n",
       "    </tr>\n",
       "    <tr>\n",
       "      <th>1203</th>\n",
       "      <td>2023-10-12</td>\n",
       "      <td>467.769989</td>\n",
       "      <td>476.089996</td>\n",
       "      <td>463.299988</td>\n",
       "      <td>469.450012</td>\n",
       "    </tr>\n",
       "    <tr>\n",
       "      <th>1204</th>\n",
       "      <td>2023-10-13</td>\n",
       "      <td>469.600006</td>\n",
       "      <td>471.160004</td>\n",
       "      <td>452.799988</td>\n",
       "      <td>454.609985</td>\n",
       "    </tr>\n",
       "    <tr>\n",
       "      <th>1205</th>\n",
       "      <td>2023-10-16</td>\n",
       "      <td>450.630005</td>\n",
       "      <td>462.250000</td>\n",
       "      <td>449.119995</td>\n",
       "      <td>460.950012</td>\n",
       "    </tr>\n",
       "  </tbody>\n",
       "</table>\n",
       "<p>1206 rows × 5 columns</p>\n",
       "</div>"
      ],
      "text/plain": [
       "           Date        Open        High         Low       Close\n",
       "0    2019-01-02   32.660000   34.619999   32.512501   34.055000\n",
       "1    2019-01-03   33.447498   33.790001   31.922501   31.997499\n",
       "2    2019-01-04   32.735001   34.432499   32.424999   34.047501\n",
       "3    2019-01-07   34.625000   36.222500   34.107498   35.849998\n",
       "4    2019-01-08   36.672501   36.695000   34.224998   34.957500\n",
       "...         ...         ...         ...         ...         ...\n",
       "1201 2023-10-10  453.100006  462.589996  450.880005  457.980011\n",
       "1202 2023-10-11  461.959991  468.589996  460.500000  468.059998\n",
       "1203 2023-10-12  467.769989  476.089996  463.299988  469.450012\n",
       "1204 2023-10-13  469.600006  471.160004  452.799988  454.609985\n",
       "1205 2023-10-16  450.630005  462.250000  449.119995  460.950012\n",
       "\n",
       "[1206 rows x 5 columns]"
      ]
     },
     "execution_count": 55,
     "metadata": {},
     "output_type": "execute_result"
    }
   ],
   "source": [
    "df=pd.read_csv(r\"C:\\Users\\htaoh\\Downloads\\NVDA.csv\", usecols = [0,1,2,3,4])\n",
    "df[\"Date\"] = pd.to_datetime(df[\"Date\"],dayfirst = True)\n",
    "interest_rate = pd.read_csv(r\"C:\\Users\\htaoh\\Downloads\\FEDFUNDS.csv\")\n",
    "interest_rate[\"DATE\"] = pd.to_datetime(interest_rate[\"DATE\"],dayfirst = True)\n",
    "df"
   ]
  },
  {
   "cell_type": "markdown",
   "id": "400b9b55",
   "metadata": {},
   "source": [
    "# Factors affecting NVDA stock prices\n",
    "\n",
    "There are numerous variables that would determine stock prices. However with this analysis, we would analyse 3 main factors: interest rate, inflation and Simple Moving Average(SMA). "
   ]
  },
  {
   "cell_type": "code",
   "execution_count": 56,
   "id": "c4a9a970",
   "metadata": {},
   "outputs": [
    {
     "data": {
      "image/png": "[encoded data removed]",
      "text/plain": [
       "<Figure size 1600x600 with 1 Axes>"
      ]
     },
     "metadata": {},
     "output_type": "display_data"
    }
   ],
   "source": [
    "plt.figure(figsize=(16,6))\n",
    "plt.title('NVDA Closing Price History', fontsize = 24)\n",
    "plt.plot(df[\"Date\"],df['Close'])\n",
    "plt.ylabel('Close Price USD ($)', fontsize=18)\n",
    "plt.xlabel('Year', fontsize=18)\n",
    "plt.show()"
   ]
  },
  {
   "cell_type": "code",
   "execution_count": 57,
   "id": "342fa6c0",
   "metadata": {},
   "outputs": [
    {
     "data": {
      "image/png": "[encoded data removed]",
      "text/plain": [
       "<Figure size 1600x600 with 1 Axes>"
      ]
     },
     "metadata": {},
     "output_type": "display_data"
    }
   ],
   "source": [
    "plt.figure(figsize=(16,6))\n",
    "plt.title('NVDA Closing Price in comparison with interest rate', fontsize = 18)\n",
    "plt.plot(df['Date'],df['Close'])\n",
    "plt.plot(interest_rate['DATE'],interest_rate['FEDFUNDS (scaled by 100)'])\n",
    "plt.ylabel('Close Price USD ($)', fontsize=18)\n",
    "plt.show()"
   ]
  },
  {
   "cell_type": "markdown",
   "id": "92694c04",
   "metadata": {},
   "source": [
    "Higher interest rates tend to negatively affect earnings and stock prices. As interest rates increase, companies face higher cost of borrowing whilst seeing reduced consumer demand. With a lowered expectation in the growth and future cash flows of a company, investors will not get as much growth from stock price appreciation. This can make stock ownership less desirable and a fall of stock prices. From the graph, the orange line shows the interest rate while the blue line shows NVDA stock prices. From mid 2020 to mid 2022, a fall in interest rates saw a spike in NVDA stock prices. Nonetheless, a rise in stock prices is shown from mid 2022 which could be attributed to inflation."
   ]
  },
  {
   "cell_type": "markdown",
   "id": "085848c1",
   "metadata": {},
   "source": [
    "# Appending Interest Rates Data into Historical Prices Data\n"
   ]
  },
  {
   "cell_type": "code",
   "execution_count": 58,
   "id": "d60a93dd",
   "metadata": {},
   "outputs": [
    {
     "data": {
      "text/html": [
       "<div>\n",
       "<style scoped>\n",
       "    .dataframe tbody tr th:only-of-type {\n",
       "        vertical-align: middle;\n",
       "    }\n",
       "\n",
       "    .dataframe tbody tr th {\n",
       "        vertical-align: top;\n",
       "    }\n",
       "\n",
       "    .dataframe thead th {\n",
       "        text-align: right;\n",
       "    }\n",
       "</style>\n",
       "<table border=\"1\" class=\"dataframe\">\n",
       "  <thead>\n",
       "    <tr style=\"text-align: right;\">\n",
       "      <th></th>\n",
       "      <th>Date</th>\n",
       "      <th>Open</th>\n",
       "      <th>High</th>\n",
       "      <th>Low</th>\n",
       "      <th>Close</th>\n",
       "    </tr>\n",
       "  </thead>\n",
       "  <tbody>\n",
       "    <tr>\n",
       "      <th>0</th>\n",
       "      <td>2019-01-02</td>\n",
       "      <td>32.660000</td>\n",
       "      <td>34.619999</td>\n",
       "      <td>32.512501</td>\n",
       "      <td>34.055000</td>\n",
       "    </tr>\n",
       "    <tr>\n",
       "      <th>1</th>\n",
       "      <td>2019-01-03</td>\n",
       "      <td>33.447498</td>\n",
       "      <td>33.790001</td>\n",
       "      <td>31.922501</td>\n",
       "      <td>31.997499</td>\n",
       "    </tr>\n",
       "    <tr>\n",
       "      <th>2</th>\n",
       "      <td>2019-01-04</td>\n",
       "      <td>32.735001</td>\n",
       "      <td>34.432499</td>\n",
       "      <td>32.424999</td>\n",
       "      <td>34.047501</td>\n",
       "    </tr>\n",
       "    <tr>\n",
       "      <th>3</th>\n",
       "      <td>2019-01-07</td>\n",
       "      <td>34.625000</td>\n",
       "      <td>36.222500</td>\n",
       "      <td>34.107498</td>\n",
       "      <td>35.849998</td>\n",
       "    </tr>\n",
       "    <tr>\n",
       "      <th>4</th>\n",
       "      <td>2019-01-08</td>\n",
       "      <td>36.672501</td>\n",
       "      <td>36.695000</td>\n",
       "      <td>34.224998</td>\n",
       "      <td>34.957500</td>\n",
       "    </tr>\n",
       "    <tr>\n",
       "      <th>...</th>\n",
       "      <td>...</td>\n",
       "      <td>...</td>\n",
       "      <td>...</td>\n",
       "      <td>...</td>\n",
       "      <td>...</td>\n",
       "    </tr>\n",
       "    <tr>\n",
       "      <th>1201</th>\n",
       "      <td>2023-10-10</td>\n",
       "      <td>453.100006</td>\n",
       "      <td>462.589996</td>\n",
       "      <td>450.880005</td>\n",
       "      <td>457.980011</td>\n",
       "    </tr>\n",
       "    <tr>\n",
       "      <th>1202</th>\n",
       "      <td>2023-10-11</td>\n",
       "      <td>461.959991</td>\n",
       "      <td>468.589996</td>\n",
       "      <td>460.500000</td>\n",
       "      <td>468.059998</td>\n",
       "    </tr>\n",
       "    <tr>\n",
       "      <th>1203</th>\n",
       "      <td>2023-10-12</td>\n",
       "      <td>467.769989</td>\n",
       "      <td>476.089996</td>\n",
       "      <td>463.299988</td>\n",
       "      <td>469.450012</td>\n",
       "    </tr>\n",
       "    <tr>\n",
       "      <th>1204</th>\n",
       "      <td>2023-10-13</td>\n",
       "      <td>469.600006</td>\n",
       "      <td>471.160004</td>\n",
       "      <td>452.799988</td>\n",
       "      <td>454.609985</td>\n",
       "    </tr>\n",
       "    <tr>\n",
       "      <th>1205</th>\n",
       "      <td>2023-10-16</td>\n",
       "      <td>450.630005</td>\n",
       "      <td>462.250000</td>\n",
       "      <td>449.119995</td>\n",
       "      <td>460.950012</td>\n",
       "    </tr>\n",
       "  </tbody>\n",
       "</table>\n",
       "<p>1206 rows × 5 columns</p>\n",
       "</div>"
      ],
      "text/plain": [
       "           Date        Open        High         Low       Close\n",
       "0    2019-01-02   32.660000   34.619999   32.512501   34.055000\n",
       "1    2019-01-03   33.447498   33.790001   31.922501   31.997499\n",
       "2    2019-01-04   32.735001   34.432499   32.424999   34.047501\n",
       "3    2019-01-07   34.625000   36.222500   34.107498   35.849998\n",
       "4    2019-01-08   36.672501   36.695000   34.224998   34.957500\n",
       "...         ...         ...         ...         ...         ...\n",
       "1201 2023-10-10  453.100006  462.589996  450.880005  457.980011\n",
       "1202 2023-10-11  461.959991  468.589996  460.500000  468.059998\n",
       "1203 2023-10-12  467.769989  476.089996  463.299988  469.450012\n",
       "1204 2023-10-13  469.600006  471.160004  452.799988  454.609985\n",
       "1205 2023-10-16  450.630005  462.250000  449.119995  460.950012\n",
       "\n",
       "[1206 rows x 5 columns]"
      ]
     },
     "execution_count": 58,
     "metadata": {},
     "output_type": "execute_result"
    }
   ],
   "source": [
    "df"
   ]
  },
  {
   "cell_type": "code",
   "execution_count": 59,
   "id": "97a0a36a",
   "metadata": {},
   "outputs": [
    {
     "data": {
      "text/html": [
       "<div>\n",
       "<style scoped>\n",
       "    .dataframe tbody tr th:only-of-type {\n",
       "        vertical-align: middle;\n",
       "    }\n",
       "\n",
       "    .dataframe tbody tr th {\n",
       "        vertical-align: top;\n",
       "    }\n",
       "\n",
       "    .dataframe thead th {\n",
       "        text-align: right;\n",
       "    }\n",
       "</style>\n",
       "<table border=\"1\" class=\"dataframe\">\n",
       "  <thead>\n",
       "    <tr style=\"text-align: right;\">\n",
       "      <th></th>\n",
       "      <th>Date</th>\n",
       "      <th>Open</th>\n",
       "      <th>High</th>\n",
       "      <th>Low</th>\n",
       "      <th>Close</th>\n",
       "      <th>Year-Month</th>\n",
       "      <th>DATE</th>\n",
       "      <th>FEDFUNDS</th>\n",
       "      <th>FEDFUNDS (scaled by 100)</th>\n",
       "    </tr>\n",
       "  </thead>\n",
       "  <tbody>\n",
       "    <tr>\n",
       "      <th>0</th>\n",
       "      <td>2019-01-02</td>\n",
       "      <td>32.660000</td>\n",
       "      <td>34.619999</td>\n",
       "      <td>32.512501</td>\n",
       "      <td>34.055000</td>\n",
       "      <td>2019-01</td>\n",
       "      <td>2019-01-01</td>\n",
       "      <td>2.40</td>\n",
       "      <td>240</td>\n",
       "    </tr>\n",
       "    <tr>\n",
       "      <th>1</th>\n",
       "      <td>2019-01-03</td>\n",
       "      <td>33.447498</td>\n",
       "      <td>33.790001</td>\n",
       "      <td>31.922501</td>\n",
       "      <td>31.997499</td>\n",
       "      <td>2019-01</td>\n",
       "      <td>2019-01-01</td>\n",
       "      <td>2.40</td>\n",
       "      <td>240</td>\n",
       "    </tr>\n",
       "    <tr>\n",
       "      <th>2</th>\n",
       "      <td>2019-01-04</td>\n",
       "      <td>32.735001</td>\n",
       "      <td>34.432499</td>\n",
       "      <td>32.424999</td>\n",
       "      <td>34.047501</td>\n",
       "      <td>2019-01</td>\n",
       "      <td>2019-01-01</td>\n",
       "      <td>2.40</td>\n",
       "      <td>240</td>\n",
       "    </tr>\n",
       "    <tr>\n",
       "      <th>3</th>\n",
       "      <td>2019-01-07</td>\n",
       "      <td>34.625000</td>\n",
       "      <td>36.222500</td>\n",
       "      <td>34.107498</td>\n",
       "      <td>35.849998</td>\n",
       "      <td>2019-01</td>\n",
       "      <td>2019-01-01</td>\n",
       "      <td>2.40</td>\n",
       "      <td>240</td>\n",
       "    </tr>\n",
       "    <tr>\n",
       "      <th>4</th>\n",
       "      <td>2019-01-08</td>\n",
       "      <td>36.672501</td>\n",
       "      <td>36.695000</td>\n",
       "      <td>34.224998</td>\n",
       "      <td>34.957500</td>\n",
       "      <td>2019-01</td>\n",
       "      <td>2019-01-01</td>\n",
       "      <td>2.40</td>\n",
       "      <td>240</td>\n",
       "    </tr>\n",
       "    <tr>\n",
       "      <th>...</th>\n",
       "      <td>...</td>\n",
       "      <td>...</td>\n",
       "      <td>...</td>\n",
       "      <td>...</td>\n",
       "      <td>...</td>\n",
       "      <td>...</td>\n",
       "      <td>...</td>\n",
       "      <td>...</td>\n",
       "      <td>...</td>\n",
       "    </tr>\n",
       "    <tr>\n",
       "      <th>1190</th>\n",
       "      <td>2023-09-25</td>\n",
       "      <td>415.910004</td>\n",
       "      <td>425.359985</td>\n",
       "      <td>411.769989</td>\n",
       "      <td>422.220001</td>\n",
       "      <td>2023-09</td>\n",
       "      <td>2023-09-01</td>\n",
       "      <td>5.33</td>\n",
       "      <td>533</td>\n",
       "    </tr>\n",
       "    <tr>\n",
       "      <th>1191</th>\n",
       "      <td>2023-09-26</td>\n",
       "      <td>420.010010</td>\n",
       "      <td>428.200012</td>\n",
       "      <td>416.549988</td>\n",
       "      <td>419.109985</td>\n",
       "      <td>2023-09</td>\n",
       "      <td>2023-09-01</td>\n",
       "      <td>5.33</td>\n",
       "      <td>533</td>\n",
       "    </tr>\n",
       "    <tr>\n",
       "      <th>1192</th>\n",
       "      <td>2023-09-27</td>\n",
       "      <td>423.299988</td>\n",
       "      <td>428.720001</td>\n",
       "      <td>416.290009</td>\n",
       "      <td>424.679993</td>\n",
       "      <td>2023-09</td>\n",
       "      <td>2023-09-01</td>\n",
       "      <td>5.33</td>\n",
       "      <td>533</td>\n",
       "    </tr>\n",
       "    <tr>\n",
       "      <th>1193</th>\n",
       "      <td>2023-09-28</td>\n",
       "      <td>424.600006</td>\n",
       "      <td>434.459991</td>\n",
       "      <td>421.149994</td>\n",
       "      <td>430.890015</td>\n",
       "      <td>2023-09</td>\n",
       "      <td>2023-09-01</td>\n",
       "      <td>5.33</td>\n",
       "      <td>533</td>\n",
       "    </tr>\n",
       "    <tr>\n",
       "      <th>1194</th>\n",
       "      <td>2023-09-29</td>\n",
       "      <td>438.269989</td>\n",
       "      <td>441.440002</td>\n",
       "      <td>433.070007</td>\n",
       "      <td>434.989990</td>\n",
       "      <td>2023-09</td>\n",
       "      <td>2023-09-01</td>\n",
       "      <td>5.33</td>\n",
       "      <td>533</td>\n",
       "    </tr>\n",
       "  </tbody>\n",
       "</table>\n",
       "<p>1195 rows × 9 columns</p>\n",
       "</div>"
      ],
      "text/plain": [
       "           Date        Open        High         Low       Close Year-Month  \\\n",
       "0    2019-01-02   32.660000   34.619999   32.512501   34.055000    2019-01   \n",
       "1    2019-01-03   33.447498   33.790001   31.922501   31.997499    2019-01   \n",
       "2    2019-01-04   32.735001   34.432499   32.424999   34.047501    2019-01   \n",
       "3    2019-01-07   34.625000   36.222500   34.107498   35.849998    2019-01   \n",
       "4    2019-01-08   36.672501   36.695000   34.224998   34.957500    2019-01   \n",
       "...         ...         ...         ...         ...         ...        ...   \n",
       "1190 2023-09-25  415.910004  425.359985  411.769989  422.220001    2023-09   \n",
       "1191 2023-09-26  420.010010  428.200012  416.549988  419.109985    2023-09   \n",
       "1192 2023-09-27  423.299988  428.720001  416.290009  424.679993    2023-09   \n",
       "1193 2023-09-28  424.600006  434.459991  421.149994  430.890015    2023-09   \n",
       "1194 2023-09-29  438.269989  441.440002  433.070007  434.989990    2023-09   \n",
       "\n",
       "           DATE  FEDFUNDS  FEDFUNDS (scaled by 100)  \n",
       "0    2019-01-01      2.40                       240  \n",
       "1    2019-01-01      2.40                       240  \n",
       "2    2019-01-01      2.40                       240  \n",
       "3    2019-01-01      2.40                       240  \n",
       "4    2019-01-01      2.40                       240  \n",
       "...         ...       ...                       ...  \n",
       "1190 2023-09-01      5.33                       533  \n",
       "1191 2023-09-01      5.33                       533  \n",
       "1192 2023-09-01      5.33                       533  \n",
       "1193 2023-09-01      5.33                       533  \n",
       "1194 2023-09-01      5.33                       533  \n",
       "\n",
       "[1195 rows x 9 columns]"
      ]
     },
     "execution_count": 59,
     "metadata": {},
     "output_type": "execute_result"
    }
   ],
   "source": [
    "df['Year-Month']=df['Date'].dt.to_period('M')\n",
    "interest_rate['Year-Month']=interest_rate['DATE'].dt.to_period('M')\n",
    "df_new = df.merge(interest_rate, on=['Year-Month'])\n",
    "df_new"
   ]
  },
  {
   "cell_type": "code",
   "execution_count": 60,
   "id": "bd4d596e",
   "metadata": {},
   "outputs": [
    {
     "data": {
      "text/html": [
       "<div>\n",
       "<style scoped>\n",
       "    .dataframe tbody tr th:only-of-type {\n",
       "        vertical-align: middle;\n",
       "    }\n",
       "\n",
       "    .dataframe tbody tr th {\n",
       "        vertical-align: top;\n",
       "    }\n",
       "\n",
       "    .dataframe thead th {\n",
       "        text-align: right;\n",
       "    }\n",
       "</style>\n",
       "<table border=\"1\" class=\"dataframe\">\n",
       "  <thead>\n",
       "    <tr style=\"text-align: right;\">\n",
       "      <th></th>\n",
       "      <th>Date</th>\n",
       "      <th>Open</th>\n",
       "      <th>High</th>\n",
       "      <th>Low</th>\n",
       "      <th>Close</th>\n",
       "      <th>FEDFUNDS</th>\n",
       "    </tr>\n",
       "  </thead>\n",
       "  <tbody>\n",
       "    <tr>\n",
       "      <th>0</th>\n",
       "      <td>2019-01-02</td>\n",
       "      <td>32.660000</td>\n",
       "      <td>34.619999</td>\n",
       "      <td>32.512501</td>\n",
       "      <td>34.055000</td>\n",
       "      <td>2.4</td>\n",
       "    </tr>\n",
       "    <tr>\n",
       "      <th>1</th>\n",
       "      <td>2019-01-03</td>\n",
       "      <td>33.447498</td>\n",
       "      <td>33.790001</td>\n",
       "      <td>31.922501</td>\n",
       "      <td>31.997499</td>\n",
       "      <td>2.4</td>\n",
       "    </tr>\n",
       "    <tr>\n",
       "      <th>2</th>\n",
       "      <td>2019-01-04</td>\n",
       "      <td>32.735001</td>\n",
       "      <td>34.432499</td>\n",
       "      <td>32.424999</td>\n",
       "      <td>34.047501</td>\n",
       "      <td>2.4</td>\n",
       "    </tr>\n",
       "    <tr>\n",
       "      <th>3</th>\n",
       "      <td>2019-01-07</td>\n",
       "      <td>34.625000</td>\n",
       "      <td>36.222500</td>\n",
       "      <td>34.107498</td>\n",
       "      <td>35.849998</td>\n",
       "      <td>2.4</td>\n",
       "    </tr>\n",
       "    <tr>\n",
       "      <th>4</th>\n",
       "      <td>2019-01-08</td>\n",
       "      <td>36.672501</td>\n",
       "      <td>36.695000</td>\n",
       "      <td>34.224998</td>\n",
       "      <td>34.957500</td>\n",
       "      <td>2.4</td>\n",
       "    </tr>\n",
       "  </tbody>\n",
       "</table>\n",
       "</div>"
      ],
      "text/plain": [
       "        Date       Open       High        Low      Close  FEDFUNDS\n",
       "0 2019-01-02  32.660000  34.619999  32.512501  34.055000       2.4\n",
       "1 2019-01-03  33.447498  33.790001  31.922501  31.997499       2.4\n",
       "2 2019-01-04  32.735001  34.432499  32.424999  34.047501       2.4\n",
       "3 2019-01-07  34.625000  36.222500  34.107498  35.849998       2.4\n",
       "4 2019-01-08  36.672501  36.695000  34.224998  34.957500       2.4"
      ]
     },
     "execution_count": 60,
     "metadata": {},
     "output_type": "execute_result"
    }
   ],
   "source": [
    "df_with_ir = df_new.drop(['Year-Month', 'DATE','FEDFUNDS (scaled by 100)'], axis=1)\n",
    "df_with_ir.head()"
   ]
  },
  {
   "cell_type": "markdown",
   "id": "b9b5f016",
   "metadata": {},
   "source": [
    "The Simple Moving Average is another important signal to consider. The SMA smoothes out volatility and makes it simpler to see a security's price trend. If SMA rises, it indicates that the security's price is rising vice versa. Traders use simple moving averages (SMAs) to chart a stock's or other security's long-term trend while disregarding the noise of day-to-day price swings. This enables traders to compare medium- and long-term patterns across a broader time frame."
   ]
  },
  {
   "cell_type": "code",
   "execution_count": 61,
   "id": "63ea87b2",
   "metadata": {},
   "outputs": [],
   "source": [
    "df_with_ir[\"SMA_5\"] = df_with_ir[\"Close\"].transform(lambda x:x.rolling(5).mean())"
   ]
  },
  {
   "cell_type": "code",
   "execution_count": 62,
   "id": "9eec89c1",
   "metadata": {},
   "outputs": [
    {
     "data": {
      "text/html": [
       "<div>\n",
       "<style scoped>\n",
       "    .dataframe tbody tr th:only-of-type {\n",
       "        vertical-align: middle;\n",
       "    }\n",
       "\n",
       "    .dataframe tbody tr th {\n",
       "        vertical-align: top;\n",
       "    }\n",
       "\n",
       "    .dataframe thead th {\n",
       "        text-align: right;\n",
       "    }\n",
       "</style>\n",
       "<table border=\"1\" class=\"dataframe\">\n",
       "  <thead>\n",
       "    <tr style=\"text-align: right;\">\n",
       "      <th></th>\n",
       "      <th>Open</th>\n",
       "      <th>High</th>\n",
       "      <th>Low</th>\n",
       "      <th>Close</th>\n",
       "      <th>FEDFUNDS</th>\n",
       "      <th>SMA_5</th>\n",
       "    </tr>\n",
       "  </thead>\n",
       "  <tbody>\n",
       "    <tr>\n",
       "      <th>4</th>\n",
       "      <td>36.672501</td>\n",
       "      <td>36.695000</td>\n",
       "      <td>34.224998</td>\n",
       "      <td>34.957500</td>\n",
       "      <td>2.4</td>\n",
       "      <td>34.181500</td>\n",
       "    </tr>\n",
       "    <tr>\n",
       "      <th>5</th>\n",
       "      <td>35.474998</td>\n",
       "      <td>36.122501</td>\n",
       "      <td>34.965000</td>\n",
       "      <td>35.645000</td>\n",
       "      <td>2.4</td>\n",
       "      <td>34.499500</td>\n",
       "    </tr>\n",
       "    <tr>\n",
       "      <th>6</th>\n",
       "      <td>35.450001</td>\n",
       "      <td>36.395000</td>\n",
       "      <td>34.840000</td>\n",
       "      <td>36.307499</td>\n",
       "      <td>2.4</td>\n",
       "      <td>35.361500</td>\n",
       "    </tr>\n",
       "    <tr>\n",
       "      <th>7</th>\n",
       "      <td>36.082500</td>\n",
       "      <td>37.437500</td>\n",
       "      <td>35.802502</td>\n",
       "      <td>37.207500</td>\n",
       "      <td>2.4</td>\n",
       "      <td>35.993499</td>\n",
       "    </tr>\n",
       "    <tr>\n",
       "      <th>8</th>\n",
       "      <td>36.680000</td>\n",
       "      <td>37.865002</td>\n",
       "      <td>36.442501</td>\n",
       "      <td>37.610001</td>\n",
       "      <td>2.4</td>\n",
       "      <td>36.345500</td>\n",
       "    </tr>\n",
       "  </tbody>\n",
       "</table>\n",
       "</div>"
      ],
      "text/plain": [
       "        Open       High        Low      Close  FEDFUNDS      SMA_5\n",
       "4  36.672501  36.695000  34.224998  34.957500       2.4  34.181500\n",
       "5  35.474998  36.122501  34.965000  35.645000       2.4  34.499500\n",
       "6  35.450001  36.395000  34.840000  36.307499       2.4  35.361500\n",
       "7  36.082500  37.437500  35.802502  37.207500       2.4  35.993499\n",
       "8  36.680000  37.865002  36.442501  37.610001       2.4  36.345500"
      ]
     },
     "execution_count": 62,
     "metadata": {},
     "output_type": "execute_result"
    }
   ],
   "source": [
    "df_with_ir = df_with_ir.dropna()\n",
    "df_final = df_with_ir.drop(['Date',], axis=1)\n",
    "df_final.head()"
   ]
  },
  {
   "cell_type": "code",
   "execution_count": 63,
   "id": "deddd74d",
   "metadata": {},
   "outputs": [
    {
     "data": {
      "text/plain": [
       "(32.900002, 493.549988)"
      ]
     },
     "execution_count": 63,
     "metadata": {},
     "output_type": "execute_result"
    }
   ],
   "source": [
    "#find the min and max close price for min max scaling later on\n",
    "min = df_final['Close'].min()\n",
    "max = df_final['Close'].max()\n",
    "min,max"
   ]
  },
  {
   "cell_type": "markdown",
   "id": "289a28ad",
   "metadata": {},
   "source": [
    "# Data Handling"
   ]
  },
  {
   "cell_type": "code",
   "execution_count": 64,
   "id": "eae1c471",
   "metadata": {},
   "outputs": [
    {
     "name": "stdout",
     "output_type": "stream",
     "text": [
      "\n"
     ]
    }
   ],
   "source": [
    "#fit the data from range of (0,1) to fit into the model.\n",
    "sc = MinMaxScaler(feature_range=(0,1))\n",
    "df_final_scaled = sc.fit_transform(df_final)\n",
    "print()"
   ]
  },
  {
   "cell_type": "code",
   "execution_count": 65,
   "id": "28aa6d76",
   "metadata": {},
   "outputs": [
    {
     "name": "stdout",
     "output_type": "stream",
     "text": [
      "1191\n",
      "[[[0.00641419 0.00497018 0.00322877 0.00446651 0.44507576]\n",
      "  [0.00385812 0.00374766 0.00484863 0.00595897 0.44507576]\n",
      "  [0.00380476 0.00432956 0.00457501 0.00739715 0.44507576]\n",
      "  ...\n",
      "  [0.01509095 0.01409375 0.01391108 0.01396938 0.44507576]\n",
      "  [0.01186785 0.01196901 0.01375785 0.01358949 0.44507576]\n",
      "  [0.01235346 0.01270039 0.01443097 0.01462607 0.44507576]]\n",
      "\n",
      " [[0.00385812 0.00374766 0.00484863 0.00595897 0.44507576]\n",
      "  [0.00380476 0.00432956 0.00457501 0.00739715 0.44507576]\n",
      "  [0.00515483 0.00655573 0.00668192 0.00935091 0.44507576]\n",
      "  ...\n",
      "  [0.01186785 0.01196901 0.01375785 0.01358949 0.44507576]\n",
      "  [0.01235346 0.01270039 0.01443097 0.01462607 0.44507576]\n",
      "  [0.01301515 0.01205443 0.01323249 0.01311733 0.44507576]]\n",
      "\n",
      " [[0.00380476 0.00432956 0.00457501 0.00739715 0.44507576]\n",
      "  [0.00515483 0.00655573 0.00668192 0.00935091 0.44507576]\n",
      "  [0.0064302  0.00746863 0.00808288 0.01022468 0.44507576]\n",
      "  ...\n",
      "  [0.01235346 0.01270039 0.01443097 0.01462607 0.44507576]\n",
      "  [0.01301515 0.01205443 0.01323249 0.01311733 0.44507576]\n",
      "  [0.0123748  0.01200104 0.01439813 0.01497341 0.44507576]]\n",
      "\n",
      " ...\n",
      "\n",
      " [[0.87927235 0.89327181 0.88512142 0.88244872 1.        ]\n",
      "  [0.87841856 0.8806088  0.87846685 0.87259306 1.        ]\n",
      "  [0.86667878 0.86751868 0.86960143 0.8695105  1.        ]\n",
      "  ...\n",
      "  [0.81549331 0.8259421  0.83085614 0.83186805 1.        ]\n",
      "  [0.81589887 0.83493219 0.82967406 0.84515361 1.        ]\n",
      "  [0.82465036 0.84099683 0.84013747 0.83840225 1.        ]]\n",
      "\n",
      " [[0.87841856 0.8806088  0.87846685 0.87259306 1.        ]\n",
      "  [0.86667878 0.86751868 0.86960143 0.8695105  1.        ]\n",
      "  [0.83818311 0.85718327 0.84024696 0.86853359 1.        ]\n",
      "  ...\n",
      "  [0.81589887 0.83493219 0.82967406 0.84515361 1.        ]\n",
      "  [0.82465036 0.84099683 0.84013747 0.83840225 1.        ]\n",
      "  [0.83167283 0.84210722 0.83956837 0.85049387 1.        ]]\n",
      "\n",
      " [[0.86667878 0.86751868 0.86960143 0.8695105  1.        ]\n",
      "  [0.83818311 0.85718327 0.84024696 0.86853359 1.        ]\n",
      "  [0.87786357 0.93164527 0.89632908 0.94816026 1.        ]\n",
      "  ...\n",
      "  [0.82465036 0.84099683 0.84013747 0.83840225 1.        ]\n",
      "  [0.83167283 0.84210722 0.83956837 0.85049387 1.        ]\n",
      "  [0.83444773 0.8543645  0.85020687 0.86397487 1.        ]]]\n",
      "(1161, 30, 5)\n",
      "[[0.01311733]\n",
      " [0.01497341]\n",
      " [0.01470205]\n",
      " ...\n",
      " [0.85049387]\n",
      " [0.86397487]\n",
      " [0.87287529]]\n",
      "(1161, 1)\n"
     ]
    }
   ],
   "source": [
    "X = []\n",
    "#number of days to look back into the past. \n",
    "days_to_reference = 30\n",
    "print(df_final_scaled.shape[0])\n",
    "\n",
    "#process the 5 rows of data into an array\n",
    "for j in range(5):\n",
    "    X.append([])\n",
    "    for i in range(days_to_reference, df_final_scaled.shape[0]):\n",
    "        X[j].append(df_final_scaled[i-days_to_reference:i, j])\n",
    "\n",
    "X=np.moveaxis(X, [0], [2])\n",
    "#yi is the target data. -3 refers to the 3rd last column which is the closing price, the column we have to predict. \n",
    "X, yi =np.array(X), np.array(df_final_scaled[days_to_reference:,-3])\n",
    "y=np.reshape(yi,(len(yi),1))\n",
    "\n",
    "print(X)\n",
    "print(X.shape)\n",
    "print(y)\n",
    "print(y.shape)"
   ]
  },
  {
   "cell_type": "code",
   "execution_count": 66,
   "id": "988b7ce7",
   "metadata": {},
   "outputs": [
    {
     "name": "stdout",
     "output_type": "stream",
     "text": [
      "928\n"
     ]
    }
   ],
   "source": [
    "#split the data into train and test dataset.\n",
    "\n",
    "split_ratio = int(len(X)*0.8)       # 80% train data, 20% test data\n",
    "print(split_ratio)\n",
    "X_train, X_test = X[:split_ratio], X[split_ratio:]\n",
    "y_train, y_test = y[:split_ratio], y[split_ratio:]\n"
   ]
  },
  {
   "cell_type": "markdown",
   "id": "850e6e05",
   "metadata": {},
   "source": [
    "# Model - LSTM \n",
    "\n",
    "The LSTM model effective in capturing patterns and dependencies in sequential time-dependent data. Furthermore, the LSTM model is able remember and forget the required historical data selectively as compared to other models such as the SVMs. This makes LSTM prediction more accurate. A multivariate LSTM is used to encompass the different variables that could impact stock prices such as interest rates and SMA."
   ]
  },
  {
   "cell_type": "code",
   "execution_count": 67,
   "id": "198d017d",
   "metadata": {},
   "outputs": [],
   "source": [
    "from keras.models import Sequential\n",
    "from keras.layers import LSTM\n",
    "from keras.layers import Dropout\n",
    "from keras.layers import Dense\n",
    "from keras.layers import TimeDistributed\n",
    "\n",
    "import tensorflow as tf\n",
    "import keras\n",
    "from keras import optimizers\n",
    "from keras.callbacks import History\n",
    "from keras.models import Model\n",
    "from keras.layers import Dense, Dropout, LSTM, Input, Activation, concatenate\n",
    "import numpy as np"
   ]
  },
  {
   "cell_type": "code",
   "execution_count": 68,
   "id": "f6651d60",
   "metadata": {},
   "outputs": [
    {
     "name": "stdout",
     "output_type": "stream",
     "text": [
      "Epoch 1/30\n",
      "56/56 [==============================] - 6s 45ms/step - loss: 0.0050 - val_loss: 7.2067e-04\n",
      "Epoch 2/30\n",
      "56/56 [==============================] - 2s 31ms/step - loss: 4.5868e-04 - val_loss: 5.0593e-04\n",
      "Epoch 3/30\n",
      "56/56 [==============================] - 2s 32ms/step - loss: 4.5581e-04 - val_loss: 5.3036e-04\n",
      "Epoch 4/30\n",
      "56/56 [==============================] - 2s 31ms/step - loss: 4.0285e-04 - val_loss: 4.6524e-04\n",
      "Epoch 5/30\n",
      "56/56 [==============================] - 2s 31ms/step - loss: 3.7546e-04 - val_loss: 4.5761e-04\n",
      "Epoch 6/30\n",
      "56/56 [==============================] - 2s 32ms/step - loss: 3.5511e-04 - val_loss: 6.0081e-04\n",
      "Epoch 7/30\n",
      "56/56 [==============================] - 2s 32ms/step - loss: 3.3974e-04 - val_loss: 3.6213e-04\n",
      "Epoch 8/30\n",
      "56/56 [==============================] - 2s 32ms/step - loss: 3.1843e-04 - val_loss: 4.9667e-04\n",
      "Epoch 9/30\n",
      "56/56 [==============================] - 2s 32ms/step - loss: 3.2290e-04 - val_loss: 3.2830e-04\n",
      "Epoch 10/30\n",
      "56/56 [==============================] - 2s 31ms/step - loss: 3.4249e-04 - val_loss: 4.3600e-04\n",
      "Epoch 11/30\n",
      "56/56 [==============================] - 2s 33ms/step - loss: 2.4762e-04 - val_loss: 3.4174e-04\n",
      "Epoch 12/30\n",
      "56/56 [==============================] - 2s 33ms/step - loss: 2.5522e-04 - val_loss: 3.7460e-04\n",
      "Epoch 13/30\n",
      "56/56 [==============================] - 2s 33ms/step - loss: 2.4823e-04 - val_loss: 3.1379e-04\n",
      "Epoch 14/30\n",
      "56/56 [==============================] - 2s 33ms/step - loss: 2.3116e-04 - val_loss: 4.2755e-04\n",
      "Epoch 15/30\n",
      "56/56 [==============================] - 2s 32ms/step - loss: 2.2551e-04 - val_loss: 2.8573e-04\n",
      "Epoch 16/30\n",
      "56/56 [==============================] - 2s 33ms/step - loss: 2.5120e-04 - val_loss: 3.3892e-04\n",
      "Epoch 17/30\n",
      "56/56 [==============================] - 2s 33ms/step - loss: 2.2945e-04 - val_loss: 4.0259e-04\n",
      "Epoch 18/30\n",
      "56/56 [==============================] - 2s 32ms/step - loss: 2.1553e-04 - val_loss: 3.6949e-04\n",
      "Epoch 19/30\n",
      "56/56 [==============================] - 2s 33ms/step - loss: 2.3546e-04 - val_loss: 2.9752e-04\n",
      "Epoch 20/30\n",
      "56/56 [==============================] - 2s 33ms/step - loss: 2.6066e-04 - val_loss: 3.4933e-04\n",
      "Epoch 21/30\n",
      "56/56 [==============================] - 2s 32ms/step - loss: 1.9540e-04 - val_loss: 3.2987e-04\n",
      "Epoch 22/30\n",
      "56/56 [==============================] - 2s 32ms/step - loss: 2.1867e-04 - val_loss: 3.7760e-04\n",
      "Epoch 23/30\n",
      "56/56 [==============================] - 2s 32ms/step - loss: 2.0315e-04 - val_loss: 2.7998e-04\n",
      "Epoch 24/30\n",
      "56/56 [==============================] - 2s 35ms/step - loss: 2.0983e-04 - val_loss: 3.2008e-04\n",
      "Epoch 25/30\n",
      "56/56 [==============================] - 2s 32ms/step - loss: 2.0384e-04 - val_loss: 3.1803e-04\n",
      "Epoch 26/30\n",
      "56/56 [==============================] - 2s 30ms/step - loss: 1.9331e-04 - val_loss: 3.4298e-04\n",
      "Epoch 27/30\n",
      "56/56 [==============================] - 2s 32ms/step - loss: 2.1821e-04 - val_loss: 3.4557e-04\n",
      "Epoch 28/30\n",
      "56/56 [==============================] - 2s 33ms/step - loss: 2.0019e-04 - val_loss: 2.7017e-04\n",
      "Epoch 29/30\n",
      "56/56 [==============================] - 2s 32ms/step - loss: 1.9683e-04 - val_loss: 4.9381e-04\n",
      "Epoch 30/30\n",
      "56/56 [==============================] - 2s 32ms/step - loss: 1.8897e-04 - val_loss: 3.5272e-04\n"
     ]
    },
    {
     "data": {
      "text/plain": [
       "<keras.src.callbacks.History at 0x1bf0140b2b0>"
      ]
     },
     "execution_count": 68,
     "metadata": {},
     "output_type": "execute_result"
    }
   ],
   "source": [
    "np.random.seed(10)\n",
    "\n",
    "#build the model. \n",
    "# lstm input shape(days_to_reference, and the number of columns we are looking back on)\n",
    "\n",
    "lstm_input = Input(shape=(days_to_reference, 5), name='lstm_input')\n",
    "inputs = LSTM(150, name='first_layer')(lstm_input)\n",
    "inputs = Dense(1, name='dense_layer')(inputs)\n",
    "output = Activation('linear', name='output')(inputs)\n",
    "model = Model(inputs=lstm_input, outputs=output)\n",
    "adam = optimizers.Adam()\n",
    "model.compile(optimizer=adam, loss='mse')\n",
    "model.fit(x=X_train, y=y_train, batch_size=15, epochs=30, shuffle=True, validation_split = 0.1)"
   ]
  },
  {
   "cell_type": "code",
   "execution_count": 69,
   "id": "7fa138c7",
   "metadata": {},
   "outputs": [
    {
     "name": "stdout",
     "output_type": "stream",
     "text": [
      "8/8 [==============================] - 1s 15ms/step\n",
      "[0.19255593] [0.20853144]\n",
      "[0.19605318] [0.21460978]\n",
      "[0.20209792] [0.22889395]\n",
      "[0.20626833] [0.22157821]\n",
      "[0.20920996] [0.22257678]\n",
      "[0.21046497] [0.21554326]\n",
      "[0.20825431] [0.21992838]\n",
      "[0.2037327] [0.23588408]\n",
      "[0.20807923] [0.23903179]\n",
      "[0.2133202] [0.24556606]\n"
     ]
    }
   ],
   "source": [
    "#Predict the first 10 values of the test data.  \n",
    "y_pred = model.predict(X_test)\n",
    "for i in range(10):\n",
    "    print(y_pred[i], y_test[i])"
   ]
  },
  {
   "cell_type": "code",
   "execution_count": 70,
   "id": "fcf57c5c",
   "metadata": {},
   "outputs": [],
   "source": [
    "#scale back the data to reflect the original values\n",
    "for i in range(len(y_pred)):\n",
    "    y_pred[i] = y_pred[i]*(493.549988-32.900002) + 32.900002\n",
    "\n",
    "for i in range(len(y_test)):\n",
    "    y_test[i] = y_test[i]*(493.549988-32.900002) + 32.900002 "
   ]
  },
  {
   "cell_type": "code",
   "execution_count": 71,
   "id": "39013bdc",
   "metadata": {},
   "outputs": [
    {
     "data": {
      "image/png": "[encoded data removed]",
      "text/plain": [
       "<Figure size 1600x800 with 1 Axes>"
      ]
     },
     "metadata": {},
     "output_type": "display_data"
    }
   ],
   "source": [
    "#plot y predicted data onto y test data\n",
    "plt.figure(figsize=(16,8))\n",
    "plt.title('Predicted vs Test data', fontsize = 24)\n",
    "plt.plot(y_test, color = 'red', label = 'Test')\n",
    "plt.plot(y_pred, color = 'black', label = 'pred')\n",
    "plt.legend()\n",
    "plt.show()"
   ]
  },
  {
   "cell_type": "code",
   "execution_count": 72,
   "id": "eb963ed7",
   "metadata": {},
   "outputs": [
    {
     "name": "stdout",
     "output_type": "stream",
     "text": [
      "Train RMSE: 11.26\n"
     ]
    }
   ],
   "source": [
    "trainScore = math.sqrt(mean_squared_error(y_pred[45], y_test[45]))\n",
    "print('Train RMSE: %.2f' % (trainScore))"
   ]
  },
  {
   "cell_type": "markdown",
   "id": "1240cec5",
   "metadata": {},
   "source": [
    "# Forecast Future Values"
   ]
  },
  {
   "cell_type": "code",
   "execution_count": 76,
   "id": "56943e00",
   "metadata": {},
   "outputs": [
    {
     "name": "stdout",
     "output_type": "stream",
     "text": [
      "1/1 [==============================] - 0s 40ms/step\n"
     ]
    },
    {
     "data": {
      "text/plain": [
       "array([[0.8041253 ],\n",
       "       [0.78360116],\n",
       "       [0.7780207 ],\n",
       "       [0.76756746],\n",
       "       [0.7440391 ],\n",
       "       [0.73832244],\n",
       "       [0.7424681 ],\n",
       "       [0.7492048 ],\n",
       "       [0.75727   ],\n",
       "       [0.7681535 ]], dtype=float32)"
      ]
     },
     "execution_count": 76,
     "metadata": {},
     "output_type": "execute_result"
    }
   ],
   "source": [
    "predictions_future = model.predict(X_test[-10:])\n",
    "predictions_future"
   ]
  },
  {
   "cell_type": "code",
   "execution_count": 77,
   "id": "65fa0793",
   "metadata": {},
   "outputs": [
    {
     "name": "stdout",
     "output_type": "stream",
     "text": [
      "[[403.3203 ]\n",
      " [393.86588]\n",
      " [391.29523]\n",
      " [386.47995]\n",
      " [375.6416 ]\n",
      " [373.0082 ]\n",
      " [374.91794]\n",
      " [378.02118]\n",
      " [381.73642]\n",
      " [386.7499 ]]\n"
     ]
    }
   ],
   "source": [
    "#scale back the data to fit the dataset. \n",
    "for i in range(10):\n",
    "    predictions_future[i] = predictions_future[i]*(493.549988-32.900002) + 32.900002\n",
    "print (predictions_future)"
   ]
  },
  {
   "cell_type": "code",
   "execution_count": 78,
   "id": "cd39282d",
   "metadata": {},
   "outputs": [
    {
     "data": {
      "text/html": [
       "<div>\n",
       "<style scoped>\n",
       "    .dataframe tbody tr th:only-of-type {\n",
       "        vertical-align: middle;\n",
       "    }\n",
       "\n",
       "    .dataframe tbody tr th {\n",
       "        vertical-align: top;\n",
       "    }\n",
       "\n",
       "    .dataframe thead th {\n",
       "        text-align: right;\n",
       "    }\n",
       "</style>\n",
       "<table border=\"1\" class=\"dataframe\">\n",
       "  <thead>\n",
       "    <tr style=\"text-align: right;\">\n",
       "      <th></th>\n",
       "      <th>Close</th>\n",
       "    </tr>\n",
       "  </thead>\n",
       "  <tbody>\n",
       "    <tr>\n",
       "      <th>0</th>\n",
       "      <td>403.320312</td>\n",
       "    </tr>\n",
       "    <tr>\n",
       "      <th>1</th>\n",
       "      <td>393.865875</td>\n",
       "    </tr>\n",
       "    <tr>\n",
       "      <th>2</th>\n",
       "      <td>391.295227</td>\n",
       "    </tr>\n",
       "    <tr>\n",
       "      <th>3</th>\n",
       "      <td>386.479950</td>\n",
       "    </tr>\n",
       "    <tr>\n",
       "      <th>4</th>\n",
       "      <td>375.641602</td>\n",
       "    </tr>\n",
       "    <tr>\n",
       "      <th>5</th>\n",
       "      <td>373.008209</td>\n",
       "    </tr>\n",
       "    <tr>\n",
       "      <th>6</th>\n",
       "      <td>374.917938</td>\n",
       "    </tr>\n",
       "    <tr>\n",
       "      <th>7</th>\n",
       "      <td>378.021179</td>\n",
       "    </tr>\n",
       "    <tr>\n",
       "      <th>8</th>\n",
       "      <td>381.736420</td>\n",
       "    </tr>\n",
       "    <tr>\n",
       "      <th>9</th>\n",
       "      <td>386.749908</td>\n",
       "    </tr>\n",
       "  </tbody>\n",
       "</table>\n",
       "</div>"
      ],
      "text/plain": [
       "        Close\n",
       "0  403.320312\n",
       "1  393.865875\n",
       "2  391.295227\n",
       "3  386.479950\n",
       "4  375.641602\n",
       "5  373.008209\n",
       "6  374.917938\n",
       "7  378.021179\n",
       "8  381.736420\n",
       "9  386.749908"
      ]
     },
     "execution_count": 78,
     "metadata": {},
     "output_type": "execute_result"
    }
   ],
   "source": [
    "df = pd.DataFrame(predictions_future, columns = ['Close'])\n",
    "df"
   ]
  },
  {
   "cell_type": "code",
   "execution_count": 79,
   "id": "2403e26a",
   "metadata": {},
   "outputs": [],
   "source": [
    "#transfer data to csv\n",
    "df.to_csv('Han Zixuan Nancy_Project_1.csv')"
   ]
  },
  {
   "cell_type": "markdown",
   "id": "644de9b4",
   "metadata": {},
   "source": []
  },
  {
   "cell_type": "markdown",
   "id": "db1389b5",
   "metadata": {},
   "source": []
  },
  {
   "cell_type": "code",
   "execution_count": null,
   "id": "61e842b8",
   "metadata": {},
   "outputs": [],
   "source": []
  },
  {
   "cell_type": "code",
   "execution_count": null,
   "id": "c5f37ac5",
   "metadata": {},
   "outputs": [],
   "source": []
  },
  {
   "cell_type": "code",
   "execution_count": null,
   "id": "8ee59d74",
   "metadata": {},
   "outputs": [],
   "source": []
  },
  {
   "cell_type": "markdown",
   "id": "4d29359f",
   "metadata": {},
   "source": []
  },
  {
   "cell_type": "code",
   "execution_count": null,
   "id": "b7b7f3d7",
   "metadata": {},
   "outputs": [],
   "source": []
  },
  {
   "cell_type": "code",
   "execution_count": null,
   "id": "a5ae59af",
   "metadata": {},
   "outputs": [],
   "source": []
  },
  {
   "cell_type": "code",
   "execution_count": null,
   "id": "44e2a9c7",
   "metadata": {},
   "outputs": [],
   "source": [
    "\n"
   ]
  },
  {
   "cell_type": "markdown",
   "id": "df544cfd",
   "metadata": {},
   "source": []
  },
  {
   "cell_type": "code",
   "execution_count": null,
   "id": "2722dcdd",
   "metadata": {},
   "outputs": [],
   "source": []
  },
  {
   "cell_type": "markdown",
   "id": "15b6c633",
   "metadata": {},
   "source": []
  },
  {
   "cell_type": "code",
   "execution_count": null,
   "id": "857a7aae",
   "metadata": {},
   "outputs": [],
   "source": []
  },
  {
   "cell_type": "code",
   "execution_count": null,
   "id": "4962020f",
   "metadata": {},
   "outputs": [],
   "source": []
  },
  {
   "cell_type": "code",
   "execution_count": null,
   "id": "4902e47e",
   "metadata": {},
   "outputs": [],
   "source": []
  },
  {
   "cell_type": "markdown",
   "id": "62cbb2fc",
   "metadata": {},
   "source": []
  },
  {
   "cell_type": "code",
   "execution_count": null,
   "id": "e1388fb4",
   "metadata": {},
   "outputs": [],
   "source": []
  },
  {
   "cell_type": "code",
   "execution_count": null,
   "id": "28d1a564",
   "metadata": {},
   "outputs": [],
   "source": []
  },
  {
   "cell_type": "code",
   "execution_count": null,
   "id": "360534f6",
   "metadata": {},
   "outputs": [],
   "source": []
  },
  {
   "cell_type": "code",
   "execution_count": null,
   "id": "3739fcfb",
   "metadata": {},
   "outputs": [],
   "source": []
  },
  {
   "cell_type": "code",
   "execution_count": null,
   "id": "4ccb6710",
   "metadata": {},
   "outputs": [],
   "source": []
  },
  {
   "cell_type": "markdown",
   "id": "9b7caf7a",
   "metadata": {},
   "source": []
  },
  {
   "cell_type": "code",
   "execution_count": null,
   "id": "3220d7b3",
   "metadata": {},
   "outputs": [],
   "source": []
  },
  {
   "cell_type": "code",
   "execution_count": null,
   "id": "cedfff31",
   "metadata": {},
   "outputs": [],
   "source": []
  },
  {
   "cell_type": "code",
   "execution_count": null,
   "id": "9ac4f85c",
   "metadata": {},
   "outputs": [],
   "source": []
  },
  {
   "cell_type": "code",
   "execution_count": null,
   "id": "8fa6a883",
   "metadata": {},
   "outputs": [],
   "source": []
  },
  {
   "cell_type": "code",
   "execution_count": null,
   "id": "317be530",
   "metadata": {},
   "outputs": [],
   "source": []
  },
  {
   "cell_type": "code",
   "execution_count": null,
   "id": "1f59d668",
   "metadata": {},
   "outputs": [],
   "source": []
  },
  {
   "cell_type": "markdown",
   "id": "b0ecb50e",
   "metadata": {},
   "source": []
  },
  {
   "cell_type": "markdown",
   "id": "70a78648",
   "metadata": {},
   "source": []
  },
  {
   "cell_type": "markdown",
   "id": "2e5fd13e",
   "metadata": {},
   "source": []
  },
  {
   "cell_type": "code",
   "execution_count": null,
   "id": "15faa6aa",
   "metadata": {},
   "outputs": [],
   "source": []
  },
  {
   "cell_type": "code",
   "execution_count": null,
   "id": "4e88ca81",
   "metadata": {},
   "outputs": [],
   "source": []
  },
  {
   "cell_type": "code",
   "execution_count": null,
   "id": "433e5bc7",
   "metadata": {},
   "outputs": [],
   "source": []
  },
  {
   "cell_type": "code",
   "execution_count": null,
   "id": "276a50cb",
   "metadata": {},
   "outputs": [],
   "source": []
  },
  {
   "cell_type": "code",
   "execution_count": null,
   "id": "fca5d42e",
   "metadata": {},
   "outputs": [],
   "source": []
  },
  {
   "cell_type": "code",
   "execution_count": null,
   "id": "e8a9b5b0",
   "metadata": {},
   "outputs": [],
   "source": []
  },
  {
   "cell_type": "code",
   "execution_count": null,
   "id": "11cd6bdb",
   "metadata": {},
   "outputs": [],
   "source": []
  },
  {
   "cell_type": "code",
   "execution_count": null,
   "id": "1549e84b",
   "metadata": {},
   "outputs": [],
   "source": [
    "\n"
   ]
  }
 ],
 "metadata": {
  "kernelspec": {
   "display_name": "Python 3 (ipykernel)",
   "language": "python",
   "name": "python3"
  },
  "language_info": {
   "codemirror_mode": {
    "name": "ipython",
    "version": 3
   },
   "file_extension": ".py",
   "mimetype": "text/x-python",
   "name": "python",
   "nbconvert_exporter": "python",
   "pygments_lexer": "ipython3",
   "version": "3.9.13"
  }
 },
 "nbformat": 4,
 "nbformat_minor": 5
}
